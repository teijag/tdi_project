{
 "cells": [
  {
   "cell_type": "markdown",
   "metadata": {},
   "source": [
    "## Motivation"
   ]
  },
  {
   "cell_type": "markdown",
   "metadata": {},
   "source": [
    "\n",
    "\n",
    "To people who are interested in property investment, Beijing's housing market is intriguing. With the average rental price <a href=\"https://www.independent.co.uk/news/business/news/beijing-named-most-expensive-global-city-to-rent-in-a6996961.html\">1.2 times</a> more than average monthly wages. Purchasing a house is even more unsustainable, 48 times more than income as we can see from the graph below.\n",
    " \n",
    " <img src=\"BJ_NY.png\">\n"
   ]
  },
  {
   "cell_type": "markdown",
   "metadata": {},
   "source": [
    "While housing data in California or Boston is frequently used in machine learning problems, I haven’t seen an analysis on Beijing housing market. I think it would be a great chance to use some similar techniques and to understand a foreign market and see if there are any interesting insights that are due to the differences in culture and policies.\n",
    "\n",
    "Furthermore, we can build a model to predict the housing price in Beijing. This adds more value to investors, realtors and homeowners to see if a property is underselling or overselling, and to make informed decisions."
   ]
  },
  {
   "cell_type": "markdown",
   "metadata": {},
   "source": [
    "## Data Source"
   ]
  },
  {
   "cell_type": "markdown",
   "metadata": {},
   "source": [
    "The dataset is available on <a href=\"https://www.kaggle.com/ruiqurm/lianjia\">Kaggle</a> and contains data scraped from Lianjia.com, an online housing trading platform that is both used by private persons and realtors.\n",
    "\n",
    "It contains 318,853 rows and 26 columns.\n",
    "Based on the Kaggle description,the columns are:\n",
    "<ul>\n",
    "<li> url: the url which fetches the data</li>\n",
    "<li> id: the id of transaction</li>\n",
    "<li> Lng: and Lat coordinates, using the BD09 protocol.</li>\n",
    "<li> Cid: community id</li>\n",
    "<li> tradeTime: the time of transaction</li>\n",
    "<li> DOM: active days on market. (know more on https://en.wikipedia.org/wiki/Days_on_market)</li>\n",
    "<li> followers: the number of people follow the transaction.</li>\n",
    "<li> totalPrice: the total price</li>\n",
    "<li> price: the average price by square</li>\n",
    "<li> square: the square of house</li>\n",
    "<li> livingRoom: the number of living room</li>\n",
    "<li> drawingRoom: the number of drawing room</li>\n",
    "<li> kitchen: the number of kitchen</li>\n",
    "<li> bathroom the number of bathroom</li>\n",
    "<li> floor: the height of the house.</li>\n",
    "<li> buildingType: including tower(1) , bungalow(2)，combination of plate and tower(3),  plate(4).</li>\n",
    "<li> constructionTime: the time of construction</li>\n",
    "<li> renovationCondition: including other(1), rough(2),Simplicity(3), hardcover(4)</li>\n",
    "<li> buildingStructure: including unknow(1), mixed(2), brick and wood (3), brick and  concrete( 4 ),steel( 5 ) and steel-concrete composite ( 6 ).</li>\n",
    "<li>ladderRatio: the proportion between number of residents on the same floor and number of elevator of ladder. It describes how many ladders a resident have on average</li>\n",
    "<li>elevator have ( 1 ) or not have elevator( 0 )</li>\n",
    "<li>fiveYearsProperty: if the owner have the property for less than 5 years</li>\n",
    "<ul/>\n"
   ]
  },
  {
   "cell_type": "markdown",
   "metadata": {},
   "source": [
    "## Analysis Overview"
   ]
  },
  {
   "cell_type": "code",
   "execution_count": null,
   "metadata": {},
   "outputs": [],
   "source": []
  },
  {
   "cell_type": "code",
   "execution_count": 3,
   "metadata": {},
   "outputs": [],
   "source": [
    "import pandas as pd\n",
    "from sklearn import preprocessing\n",
    "import matplotlib.pyplot as plt\n",
    "import datetime\n",
    "import numpy as np\n",
    "import seaborn as sns\n",
    "import time\n",
    "import warnings\n",
    "warnings.filterwarnings(\"ignore\")"
   ]
  },
  {
   "cell_type": "markdown",
   "metadata": {},
   "source": [
    "## Data ingesting and cleaning"
   ]
  },
  {
   "cell_type": "code",
   "execution_count": 26,
   "metadata": {},
   "outputs": [],
   "source": [
    "df_original = pd.read_csv(\"new.csv\",encoding='latin1')"
   ]
  },
  {
   "cell_type": "code",
   "execution_count": 27,
   "metadata": {},
   "outputs": [],
   "source": [
    "# dropping identifiers like ID, cID, url\n",
    "# dropping DOM because it contains mostly null values\n",
    "columns_to_pick = ['Lng', 'Lat', \n",
    "        'followers', 'tradeTime',\n",
    "       'totalPrice', 'price', 'square', 'livingRoom', 'drawingRoom', 'kitchen',\n",
    "       'bathRoom', 'floor', 'buildingType', 'constructionTime',\n",
    "       'renovationCondition', 'buildingStructure', 'ladderRatio', 'elevator',\n",
    "       'fiveYearsProperty', 'subway', 'district', 'communityAverage']\n",
    "df = df_original[columns_to_pick]"
   ]
  },
  {
   "cell_type": "code",
   "execution_count": 28,
   "metadata": {},
   "outputs": [
    {
     "data": {
      "text/plain": [
       "165384     ÖÐ 5\n",
       "158093    µÍ 10\n",
       "82300     ¶¥ 11\n",
       "269856     µ× 6\n",
       "72485      ¸ß 6\n",
       "117452     ¸ß 7\n",
       "240549    µÍ 16\n",
       "255305    ÖÐ 13\n",
       "172336    ¸ß 15\n",
       "12500      ÖÐ 6\n",
       "Name: floor, dtype: object"
      ]
     },
     "execution_count": 28,
     "metadata": {},
     "output_type": "execute_result"
    }
   ],
   "source": [
    "df.sample(10)['floor']"
   ]
  },
  {
   "cell_type": "code",
   "execution_count": 29,
   "metadata": {},
   "outputs": [],
   "source": [
    "# convert tradeTime to datetime\n",
    "df['tradeTime'] = pd.to_datetime(df['tradeTime'])\n",
    "# extract floor from the garbled text\n",
    "df['floor'] = df['floor'].apply(lambda x: (x.split(' ')[-1]))\n",
    "    \n",
    "# remove garbled textfields in the following cols\n",
    "digit_cols = ['livingRoom', 'drawingRoom', 'kitchen','bathRoom', 'floor', 'constructionTime'] \n",
    "    \n",
    "for s in digit_cols:\n",
    "    df = df[df[s].apply(lambda v:str(v).isdigit())]\n",
    "    df[s] = df[s].astype('int')"
   ]
  },
  {
   "cell_type": "code",
   "execution_count": 36,
   "metadata": {},
   "outputs": [],
   "source": [
    "# total price is in 10000 RMB, price is in RMB\n",
    "# convert price and total price 1 RMB = 6.76 USD\n",
    "df['price'] = df['price']/6.76\n",
    "df['totalPrice'] = df['totalPrice'] * 10000 / 6.76"
   ]
  },
  {
   "cell_type": "code",
   "execution_count": 30,
   "metadata": {},
   "outputs": [
    {
     "name": "stdout",
     "output_type": "stream",
     "text": [
      "Starting with 299536 rows\n",
      "Cleaning... \n",
      "Ending with: 297701 rows\n"
     ]
    }
   ],
   "source": [
    "print ('Starting with', len(df) , 'rows')\n",
    "print ('Cleaning... ')\n",
    "df = df.dropna()\n",
    "print ('Ending with:', len(df), 'rows')"
   ]
  },
  {
   "cell_type": "code",
   "execution_count": 38,
   "metadata": {},
   "outputs": [
    {
     "name": "stdout",
     "output_type": "stream",
     "text": [
      "followers\n"
     ]
    },
    {
     "data": {
      "image/png": "[encoded data removed]",
      "text/plain": [
       "<Figure size 432x288 with 1 Axes>"
      ]
     },
     "metadata": {
      "needs_background": "light"
     },
     "output_type": "display_data"
    },
    {
     "name": "stdout",
     "output_type": "stream",
     "text": [
      "totalPrice\n"
     ]
    },
    {
     "data": {
      "image/png": "[encoded data removed]",
      "text/plain": [
       "<Figure size 432x288 with 1 Axes>"
      ]
     },
     "metadata": {
      "needs_background": "light"
     },
     "output_type": "display_data"
    },
    {
     "name": "stdout",
     "output_type": "stream",
     "text": [
      "price\n"
     ]
    },
    {
     "data": {
      "image/png": "[encoded data removed]",
      "text/plain": [
       "<Figure size 432x288 with 1 Axes>"
      ]
     },
     "metadata": {
      "needs_background": "light"
     },
     "output_type": "display_data"
    },
    {
     "name": "stdout",
     "output_type": "stream",
     "text": [
      "square\n"
     ]
    },
    {
     "data": {
      "image/png": "[encoded data removed]",
      "text/plain": [
       "<Figure size 432x288 with 1 Axes>"
      ]
     },
     "metadata": {
      "needs_background": "light"
     },
     "output_type": "display_data"
    },
    {
     "name": "stdout",
     "output_type": "stream",
     "text": [
      "floor\n"
     ]
    },
    {
     "data": {
      "image/png": "[encoded data removed]",
      "text/plain": [
       "<Figure size 432x288 with 1 Axes>"
      ]
     },
     "metadata": {
      "needs_background": "light"
     },
     "output_type": "display_data"
    },
    {
     "name": "stdout",
     "output_type": "stream",
     "text": [
      "constructionTime\n"
     ]
    },
    {
     "data": {
      "image/png": "[encoded data removed]",
      "text/plain": [
       "<Figure size 432x288 with 1 Axes>"
      ]
     },
     "metadata": {
      "needs_background": "light"
     },
     "output_type": "display_data"
    },
    {
     "name": "stdout",
     "output_type": "stream",
     "text": [
      "livingRoom\n"
     ]
    },
    {
     "data": {
      "image/png": "[encoded data removed]",
      "text/plain": [
       "<Figure size 432x288 with 1 Axes>"
      ]
     },
     "metadata": {
      "needs_background": "light"
     },
     "output_type": "display_data"
    },
    {
     "name": "stdout",
     "output_type": "stream",
     "text": [
      "drawingRoom\n"
     ]
    },
    {
     "data": {
      "image/png": "[encoded data removed]",
      "text/plain": [
       "<Figure size 432x288 with 1 Axes>"
      ]
     },
     "metadata": {
      "needs_background": "light"
     },
     "output_type": "display_data"
    },
    {
     "name": "stdout",
     "output_type": "stream",
     "text": [
      "kitchen\n"
     ]
    },
    {
     "data": {
      "image/png": "[encoded data removed]",
      "text/plain": [
       "<Figure size 432x288 with 1 Axes>"
      ]
     },
     "metadata": {
      "needs_background": "light"
     },
     "output_type": "display_data"
    },
    {
     "name": "stdout",
     "output_type": "stream",
     "text": [
      "bathRoom\n"
     ]
    },
    {
     "data": {
      "image/png": "[encoded data removed]",
      "text/plain": [
       "<Figure size 432x288 with 1 Axes>"
      ]
     },
     "metadata": {
      "needs_background": "light"
     },
     "output_type": "display_data"
    },
    {
     "name": "stdout",
     "output_type": "stream",
     "text": [
      "ladderRatio\n"
     ]
    },
    {
     "data": {
      "image/png": "[encoded data removed]",
      "text/plain": [
       "<Figure size 432x288 with 1 Axes>"
      ]
     },
     "metadata": {
      "needs_background": "light"
     },
     "output_type": "display_data"
    },
    {
     "name": "stdout",
     "output_type": "stream",
     "text": [
      "communityAverage\n"
     ]
    },
    {
     "data": {
      "image/png": "[encoded data removed]",
      "text/plain": [
       "<Figure size 432x288 with 1 Axes>"
      ]
     },
     "metadata": {
      "needs_background": "light"
     },
     "output_type": "display_data"
    },
    {
     "name": "stdout",
     "output_type": "stream",
     "text": [
      "tradeTime\n"
     ]
    },
    {
     "data": {
      "image/png": "[encoded data removed]",
      "text/plain": [
       "<Figure size 432x288 with 1 Axes>"
      ]
     },
     "metadata": {
      "needs_background": "light"
     },
     "output_type": "display_data"
    },
    {
     "name": "stdout",
     "output_type": "stream",
     "text": [
      "buildingType\n"
     ]
    },
    {
     "data": {
      "image/png": "[encoded data removed]",
      "text/plain": [
       "<Figure size 432x288 with 1 Axes>"
      ]
     },
     "metadata": {
      "needs_background": "light"
     },
     "output_type": "display_data"
    },
    {
     "name": "stdout",
     "output_type": "stream",
     "text": [
      "\n",
      "\n",
      "elevator\n"
     ]
    },
    {
     "data": {
      "image/png": "[encoded data removed]",
      "text/plain": [
       "<Figure size 432x288 with 1 Axes>"
      ]
     },
     "metadata": {
      "needs_background": "light"
     },
     "output_type": "display_data"
    },
    {
     "name": "stdout",
     "output_type": "stream",
     "text": [
      "\n",
      "\n",
      "fiveYearsProperty\n"
     ]
    },
    {
     "data": {
      "image/png": "[encoded data removed]",
      "text/plain": [
       "<Figure size 432x288 with 1 Axes>"
      ]
     },
     "metadata": {
      "needs_background": "light"
     },
     "output_type": "display_data"
    },
    {
     "name": "stdout",
     "output_type": "stream",
     "text": [
      "\n",
      "\n",
      "subway\n"
     ]
    },
    {
     "data": {
      "image/png": "[encoded data removed]",
      "text/plain": [
       "<Figure size 432x288 with 1 Axes>"
      ]
     },
     "metadata": {
      "needs_background": "light"
     },
     "output_type": "display_data"
    },
    {
     "name": "stdout",
     "output_type": "stream",
     "text": [
      "\n",
      "\n",
      "renovationCondition\n"
     ]
    },
    {
     "data": {
      "image/png": "[encoded data removed]",
      "text/plain": [
       "<Figure size 432x288 with 1 Axes>"
      ]
     },
     "metadata": {
      "needs_background": "light"
     },
     "output_type": "display_data"
    },
    {
     "name": "stdout",
     "output_type": "stream",
     "text": [
      "\n",
      "\n",
      "buildingStructure\n"
     ]
    },
    {
     "data": {
      "image/png": "[encoded data removed]",
      "text/plain": [
       "<Figure size 432x288 with 1 Axes>"
      ]
     },
     "metadata": {
      "needs_background": "light"
     },
     "output_type": "display_data"
    },
    {
     "name": "stdout",
     "output_type": "stream",
     "text": [
      "\n",
      "\n",
      "district\n"
     ]
    },
    {
     "data": {
      "image/png": "[encoded data removed]",
      "text/plain": [
       "<Figure size 432x288 with 1 Axes>"
      ]
     },
     "metadata": {
      "needs_background": "light"
     },
     "output_type": "display_data"
    },
    {
     "name": "stdout",
     "output_type": "stream",
     "text": [
      "\n",
      "\n"
     ]
    }
   ],
   "source": [
    "def visualize_outliers(df):   \n",
    "    numeric_cols = ['followers','totalPrice', 'price', 'square','floor',\n",
    "                    'constructionTime',\n",
    "                    'livingRoom', 'drawingRoom', 'kitchen','bathRoom', \n",
    "                    'ladderRatio','communityAverage']\n",
    "    date_cols = ['tradeTime']\n",
    "    cat_cols = ['buildingType','elevator','fiveYearsProperty','subway',\n",
    "               'renovationCondition', 'buildingStructure','district'] \n",
    "    for i in numeric_cols:\n",
    "        print(i)\n",
    "        plt.boxplot(df[i])\n",
    "        plt.show()\n",
    "    for i in date_cols:\n",
    "        print(i)\n",
    "        plt.boxplot(df[i].dt.year)\n",
    "        plt.show()\n",
    "    for i in cat_cols:\n",
    "        print(i)\n",
    "        #print(len(set(df[i])))\n",
    "        #print(df[i].value_counts())\n",
    "        df[i].value_counts().plot(kind='bar')\n",
    "        plt.show()\n",
    "        print(\"\")\n",
    "        print(\"\")\n",
    "visualize_outliers(df)"
   ]
  },
  {
   "cell_type": "code",
   "execution_count": 50,
   "metadata": {},
   "outputs": [],
   "source": [
    "# removing outliers that are obvious in some columns \n",
    "df = df[df['tradeTime'].dt.year>2008]\n",
    "df = df[df['floor']<50]\n",
    "df = df[df['ladderRatio']<=1]"
   ]
  },
  {
   "cell_type": "markdown",
   "metadata": {},
   "source": [
    "## EDA"
   ]
  },
  {
   "cell_type": "markdown",
   "metadata": {},
   "source": [
    "### how is the total price distributed?"
   ]
  },
  {
   "cell_type": "code",
   "execution_count": 40,
   "metadata": {},
   "outputs": [
    {
     "data": {
      "text/plain": [
       "<matplotlib.axes._subplots.AxesSubplot at 0x1a217e0908>"
      ]
     },
     "execution_count": 40,
     "metadata": {},
     "output_type": "execute_result"
    },
    {
     "data": {
      "image/png": "[encoded data removed]",
      "text/plain": [
       "<Figure size 432x288 with 1 Axes>"
      ]
     },
     "metadata": {
      "needs_background": "light"
     },
     "output_type": "display_data"
    }
   ],
   "source": [
    "sns.distplot(df['totalPrice'])"
   ]
  },
  {
   "cell_type": "code",
   "execution_count": 37,
   "metadata": {},
   "outputs": [
    {
     "data": {
      "text/plain": [
       "count    2.976940e+05\n",
       "mean     5.166079e+05\n",
       "std      3.321016e+05\n",
       "min      1.479290e+02\n",
       "25%      3.032544e+05\n",
       "50%      4.363905e+05\n",
       "75%      6.316568e+05\n",
       "max      7.248521e+06\n",
       "Name: totalPrice, dtype: float64"
      ]
     },
     "execution_count": 37,
     "metadata": {},
     "output_type": "execute_result"
    }
   ],
   "source": [
    "df['totalPrice'].describe()"
   ]
  },
  {
   "cell_type": "markdown",
   "metadata": {},
   "source": [
    "Accoring to PayScale.com, the current average yearly salary in Beijing is 246,827 RMB which is \\\\$36512. \n",
    "\n",
    "From out dataset, the minimum housing price is \\\\$147. \n",
    "The price goes up quickly - at 25 percentile the price is \\\\$303254 which is already roughly 10 times than the average income.\n",
    "\n",
    "The average price is \\\\$516608, which is 14 times of average salary. This number is smaller than what we saw ealier in the Motivation, but 14 is a rough estimate since the dataset ranges from 2008 to now, and we ignored the housing market and interest rate fluctuations."
   ]
  },
  {
   "cell_type": "code",
   "execution_count": 42,
   "metadata": {},
   "outputs": [
    {
     "data": {
      "text/plain": [
       "count    4.222600e+04\n",
       "mean     7.781231e+05\n",
       "std      4.134722e+05\n",
       "min      1.479290e+03\n",
       "25%      5.251479e+05\n",
       "50%      6.789941e+05\n",
       "75%      9.097633e+05\n",
       "max      7.248521e+06\n",
       "Name: totalPrice, dtype: float64"
      ]
     },
     "execution_count": 42,
     "metadata": {},
     "output_type": "execute_result"
    }
   ],
   "source": [
    "df[df['tradeTime'].dt.year>2016]['totalPrice'].describe()"
   ]
  },
  {
   "cell_type": "markdown",
   "metadata": {},
   "source": [
    "Now the income ratio is 778123 / 36512 = 21 times."
   ]
  },
  {
   "cell_type": "markdown",
   "metadata": {},
   "source": [
    "### Which district is the most expensive?"
   ]
  },
  {
   "cell_type": "code",
   "execution_count": 51,
   "metadata": {},
   "outputs": [
    {
     "name": "stdout",
     "output_type": "stream",
     "text": [
      "followers\n"
     ]
    },
    {
     "data": {
      "image/png": "[encoded data removed]",
      "text/plain": [
       "<Figure size 432x288 with 1 Axes>"
      ]
     },
     "metadata": {
      "needs_background": "light"
     },
     "output_type": "display_data"
    },
    {
     "name": "stdout",
     "output_type": "stream",
     "text": [
      "totalPrice\n"
     ]
    },
    {
     "data": {
      "image/png": "[encoded data removed]",
      "text/plain": [
       "<Figure size 432x288 with 1 Axes>"
      ]
     },
     "metadata": {
      "needs_background": "light"
     },
     "output_type": "display_data"
    },
    {
     "name": "stdout",
     "output_type": "stream",
     "text": [
      "square\n"
     ]
    },
    {
     "data": {
      "image/png": "[encoded data removed]",
      "text/plain": [
       "<Figure size 432x288 with 1 Axes>"
      ]
     },
     "metadata": {
      "needs_background": "light"
     },
     "output_type": "display_data"
    },
    {
     "name": "stdout",
     "output_type": "stream",
     "text": [
      "buildingType\n"
     ]
    },
    {
     "data": {
      "image/png": "[encoded data removed]",
      "text/plain": [
       "<Figure size 432x288 with 1 Axes>"
      ]
     },
     "metadata": {
      "needs_background": "light"
     },
     "output_type": "display_data"
    },
    {
     "name": "stdout",
     "output_type": "stream",
     "text": [
      "constructionTime\n"
     ]
    },
    {
     "data": {
      "image/png": "[encoded data removed]",
      "text/plain": [
       "<Figure size 432x288 with 1 Axes>"
      ]
     },
     "metadata": {
      "needs_background": "light"
     },
     "output_type": "display_data"
    },
    {
     "name": "stdout",
     "output_type": "stream",
     "text": [
      "renovationCondition\n"
     ]
    },
    {
     "data": {
      "image/png": "[encoded data removed]",
      "text/plain": [
       "<Figure size 432x288 with 1 Axes>"
      ]
     },
     "metadata": {
      "needs_background": "light"
     },
     "output_type": "display_data"
    },
    {
     "name": "stdout",
     "output_type": "stream",
     "text": [
      "ladderRatio\n"
     ]
    },
    {
     "data": {
      "image/png": "[encoded data removed]",
      "text/plain": [
       "<Figure size 432x288 with 1 Axes>"
      ]
     },
     "metadata": {
      "needs_background": "light"
     },
     "output_type": "display_data"
    },
    {
     "name": "stdout",
     "output_type": "stream",
     "text": [
      "fiveYearsProperty\n"
     ]
    },
    {
     "data": {
      "image/png": "[encoded data removed]",
      "text/plain": [
       "<Figure size 432x288 with 1 Axes>"
      ]
     },
     "metadata": {
      "needs_background": "light"
     },
     "output_type": "display_data"
    },
    {
     "name": "stdout",
     "output_type": "stream",
     "text": [
      "subway\n"
     ]
    },
    {
     "data": {
      "image/png": "[encoded data removed]",
      "text/plain": [
       "<Figure size 432x288 with 1 Axes>"
      ]
     },
     "metadata": {
      "needs_background": "light"
     },
     "output_type": "display_data"
    },
    {
     "name": "stdout",
     "output_type": "stream",
     "text": [
      "communityAverage\n"
     ]
    },
    {
     "data": {
      "image/png": "[encoded data removed]",
      "text/plain": [
       "<Figure size 432x288 with 1 Axes>"
      ]
     },
     "metadata": {
      "needs_background": "light"
     },
     "output_type": "display_data"
    }
   ],
   "source": [
    "features = ['followers','totalPrice','square','buildingType','constructionTime',\n",
    "           'renovationCondition','ladderRatio','fiveYearsProperty','subway','communityAverage']\n",
    "for i in features:\n",
    "    print (i)\n",
    "    df.groupby('district').mean()[i].plot.bar()\n",
    "    plt.show()"
   ]
  },
  {
   "cell_type": "markdown",
   "metadata": {},
   "source": [
    "We see from the barplots that District 1 and 10 is the most expensive ones. They have the highest total prices and community averages.\n",
    "District 1 also is the most accessible to the subway.\n",
    "\n",
    "However, they are the smallest in squares. This tells me that these 2 district are likely to be at the city center, like financial districts.\n",
    "\n",
    "Interestingly, district 5 has the most popular properties, many followers, decent sizes of the house, but the price is relatively low. This district is probably not as close to the city center, but is developing and good for living."
   ]
  },
  {
   "cell_type": "markdown",
   "metadata": {},
   "source": [
    "With the help of tableau, I was able to visually understand these district.\n",
    "<img src = 'districtonmap 1.png'>"
   ]
  },
  {
   "cell_type": "markdown",
   "metadata": {},
   "source": [
    "This map proves my thoughts about district 1, 5 and 10. District 5 is on the outskirt of the city, which maybe the reason why the properties have the larger square area and lower prices."
   ]
  },
  {
   "cell_type": "markdown",
   "metadata": {},
   "source": [
    "From our EDA, we can see the price is strongly related to several factors. \n",
    "\n",
    "District is definitely a telling one. \n",
    "\n",
    "The square area of the house, which in many housing datasets are the most telling predictors, may actually have limited power here because the most expensive houses in Beijing are smaller in size.\n",
    "\n",
    "We can also preliminarily tell that the more the followers, the cheaper the houses.\n",
    "\n",
    "With these rough ideas, let's dive into modeling.\n"
   ]
  },
  {
   "cell_type": "markdown",
   "metadata": {},
   "source": [
    "## Making Prediction"
   ]
  },
  {
   "cell_type": "markdown",
   "metadata": {},
   "source": [
    "For a first round modeling, I'd like to try linear regression and random forest regression to predict the prices."
   ]
  },
  {
   "cell_type": "code",
   "execution_count": 52,
   "metadata": {},
   "outputs": [
    {
     "data": {
      "text/plain": [
       "Index(['Lng', 'Lat', 'followers', 'tradeTime', 'totalPrice', 'price', 'square',\n",
       "       'livingRoom', 'drawingRoom', 'kitchen', 'bathRoom', 'floor',\n",
       "       'buildingType', 'constructionTime', 'renovationCondition',\n",
       "       'buildingStructure', 'ladderRatio', 'elevator', 'fiveYearsProperty',\n",
       "       'subway', 'district', 'communityAverage'],\n",
       "      dtype='object')"
      ]
     },
     "execution_count": 52,
     "metadata": {},
     "output_type": "execute_result"
    }
   ],
   "source": [
    "df.columns"
   ]
  },
  {
   "cell_type": "code",
   "execution_count": 105,
   "metadata": {},
   "outputs": [],
   "source": [
    "selected_features = ['followers','totalPrice', 'square',\n",
    "       'livingRoom', 'drawingRoom', 'kitchen', 'bathRoom', 'floor',\n",
    "       'buildingType', 'renovationCondition','buildingStructure', \n",
    "                     'ladderRatio', 'elevator', 'fiveYearsProperty',\n",
    "       'subway', 'district', 'communityAverage']\n",
    "df_ml = df[selected_features]"
   ]
  },
  {
   "cell_type": "markdown",
   "metadata": {},
   "source": [
    "### transforming and scaling the data"
   ]
  },
  {
   "cell_type": "code",
   "execution_count": 121,
   "metadata": {},
   "outputs": [],
   "source": [
    "def convert_categorical(df):\n",
    "    '''\n",
    "    this funciton coverts categorical variables in df through OHE.\n",
    "    \n",
    "    '''\n",
    "    cat_var = [\n",
    "        'buildingType', \n",
    "        'livingRoom',\n",
    "       'drawingRoom', 'kitchen', 'bathRoom', \n",
    "       'renovationCondition', \n",
    "        'buildingStructure', \n",
    "        'district']\n",
    "    for i in cat_var:\n",
    "        df[i] = df[i].astype('category')\n",
    "    df = pd.get_dummies(data = df,columns = cat_var)\n",
    "    return df\n",
    "df_ml = convert_categorical(df_ml)"
   ]
  },
  {
   "cell_type": "code",
   "execution_count": 122,
   "metadata": {},
   "outputs": [
    {
     "data": {
      "text/plain": [
       "['followers',\n",
       " 'square',\n",
       " 'floor',\n",
       " 'ladderRatio',\n",
       " 'elevator',\n",
       " 'fiveYearsProperty',\n",
       " 'subway',\n",
       " 'communityAverage',\n",
       " 'buildingType_1.0',\n",
       " 'buildingType_2.0',\n",
       " 'buildingType_3.0',\n",
       " 'buildingType_4.0',\n",
       " 'livingRoom_0',\n",
       " 'livingRoom_1',\n",
       " 'livingRoom_2',\n",
       " 'livingRoom_3',\n",
       " 'livingRoom_4',\n",
       " 'livingRoom_5',\n",
       " 'livingRoom_6',\n",
       " 'livingRoom_7',\n",
       " 'livingRoom_8',\n",
       " 'drawingRoom_0',\n",
       " 'drawingRoom_1',\n",
       " 'drawingRoom_2',\n",
       " 'drawingRoom_3',\n",
       " 'drawingRoom_4',\n",
       " 'drawingRoom_5',\n",
       " 'kitchen_0',\n",
       " 'kitchen_1',\n",
       " 'kitchen_2',\n",
       " 'kitchen_3',\n",
       " 'bathRoom_0',\n",
       " 'bathRoom_1',\n",
       " 'bathRoom_2',\n",
       " 'bathRoom_3',\n",
       " 'bathRoom_4',\n",
       " 'bathRoom_5',\n",
       " 'bathRoom_6',\n",
       " 'bathRoom_7',\n",
       " 'renovationCondition_1',\n",
       " 'renovationCondition_2',\n",
       " 'renovationCondition_3',\n",
       " 'renovationCondition_4',\n",
       " 'buildingStructure_1',\n",
       " 'buildingStructure_2',\n",
       " 'buildingStructure_3',\n",
       " 'buildingStructure_4',\n",
       " 'buildingStructure_5',\n",
       " 'buildingStructure_6',\n",
       " 'district_1',\n",
       " 'district_2',\n",
       " 'district_3',\n",
       " 'district_4',\n",
       " 'district_5',\n",
       " 'district_6',\n",
       " 'district_7',\n",
       " 'district_8',\n",
       " 'district_9',\n",
       " 'district_10',\n",
       " 'district_11',\n",
       " 'district_12',\n",
       " 'district_13']"
      ]
     },
     "execution_count": 122,
     "metadata": {},
     "output_type": "execute_result"
    }
   ],
   "source": [
    "selected_features = df_ml.columns.tolist()\n",
    "selected_features.remove('totalPrice')\n",
    "selected_features"
   ]
  },
  {
   "cell_type": "code",
   "execution_count": 92,
   "metadata": {},
   "outputs": [],
   "source": [
    "from sklearn import preprocessing\n",
    "\n",
    "min_max_scaler = preprocessing.MinMaxScaler()\n",
    "df_ml = min_max_scaler.fit_transform(df_ml)"
   ]
  },
  {
   "cell_type": "code",
   "execution_count": 93,
   "metadata": {},
   "outputs": [],
   "source": [
    "y = pd.DataFrame(df_ml).iloc[:,1]\n",
    "X = pd.DataFrame(df_ml).drop([1],axis = 1)"
   ]
  },
  {
   "cell_type": "code",
   "execution_count": 94,
   "metadata": {},
   "outputs": [],
   "source": [
    "from sklearn.model_selection import train_test_split\n",
    "from sklearn.metrics import mean_squared_error\n",
    "\n",
    "from math import sqrt\n",
    "\n",
    "X_train, X_test, y_train, y_test = train_test_split(X, y, random_state=0)"
   ]
  },
  {
   "cell_type": "code",
   "execution_count": 95,
   "metadata": {},
   "outputs": [],
   "source": [
    "from sklearn import linear_model\n",
    "from sklearn.ensemble import RandomForestRegressor\n",
    "\n",
    "l1_regression = linear_model.Lasso()\n",
    "l2_regression = linear_model.Ridge()\n",
    "rfr = RandomForestRegressor()\n",
    "\n",
    "modellist = []\n",
    "modellist.append(l1_regression)\n",
    "modellist.append(l2_regression)\n",
    "modellist.append(rfr)"
   ]
  },
  {
   "cell_type": "code",
   "execution_count": 99,
   "metadata": {},
   "outputs": [
    {
     "name": "stdout",
     "output_type": "stream",
     "text": [
      "Lasso(alpha=1.0, copy_X=True, fit_intercept=True, max_iter=1000,\n",
      "   normalize=False, positive=False, precompute=False, random_state=None,\n",
      "   selection='cyclic', tol=0.0001, warm_start=False)\n",
      "score =  0.045715836575981376\n",
      "\n",
      "\n",
      "\n",
      "Ridge(alpha=1.0, copy_X=True, fit_intercept=True, max_iter=None,\n",
      "   normalize=False, random_state=None, solver='auto', tol=0.001)\n",
      "score =  0.025838505541403652\n",
      "\n",
      "\n",
      "\n",
      "RandomForestRegressor(bootstrap=True, criterion='mse', max_depth=None,\n",
      "           max_features='auto', max_leaf_nodes=None,\n",
      "           min_impurity_decrease=0.0, min_impurity_split=None,\n",
      "           min_samples_leaf=1, min_samples_split=2,\n",
      "           min_weight_fraction_leaf=0.0, n_estimators=10, n_jobs=None,\n",
      "           oob_score=False, random_state=None, verbose=0, warm_start=False)\n",
      "score =  0.021638180273853384\n",
      "\n",
      "\n",
      "\n"
     ]
    }
   ],
   "source": [
    "best_model = None\n",
    "best_score = np.inf\n",
    "for i in modellist:\n",
    "    print(i)\n",
    "    i.fit(X_train.values,y_train)\n",
    "    y_predict = i.predict(X_test.values)\n",
    "    score = sqrt(mean_squared_error(y_test,y_predict))\n",
    "    print('score = ', score)\n",
    "    if score < best_score:\n",
    "        best_score = score\n",
    "        best_model = i\n",
    "    print()\n",
    "    print()\n",
    "    print()"
   ]
  },
  {
   "cell_type": "markdown",
   "metadata": {},
   "source": [
    "### Top 10 predictors"
   ]
  },
  {
   "cell_type": "code",
   "execution_count": 123,
   "metadata": {},
   "outputs": [
    {
     "name": "stdout",
     "output_type": "stream",
     "text": [
      "square 0.4182528882057608\n",
      "communityAverage 0.32713655384657414\n",
      "followers 0.10422403848419433\n",
      "renovationCondition_1 0.043876397768107894\n",
      "floor 0.020628479747999535\n",
      "ladderRatio 0.015437567025848555\n",
      "fiveYearsProperty 0.01106735904487509\n",
      "subway 0.003998754322925571\n",
      "renovationCondition_4 0.0034269838069980753\n",
      "drawingRoom_1 0.002972656180983097\n"
     ]
    }
   ],
   "source": [
    "\n",
    "important_feature_idx = np.argsort(best_model.feature_importances_)[::-1][:10]\n",
    "\n",
    "for i in important_feature_idx:\n",
    "    print (selected_features[i],best_model.feature_importances_[i])\n",
    "    \n"
   ]
  },
  {
   "cell_type": "markdown",
   "metadata": {},
   "source": [
    "## Interpretation and Future Step"
   ]
  },
  {
   "cell_type": "markdown",
   "metadata": {},
   "source": [
    "We can see square is still very predictive in this dataset. Other top 5 important factors are communityAverage, followers,renovationCondition_1.0, and ladderRatio."
   ]
  },
  {
   "cell_type": "markdown",
   "metadata": {},
   "source": [
    "Future work on this model includes:\n",
    "\n",
    "1)\n",
    "    test on the time-stability on this model, and incorporate inflation and currency fluctuation factors.\n",
    "2)\n",
    "    feature engineer.\n",
    "\n",
    "3)\n",
    "     hyperparmeter selection on random forest."
   ]
  },
  {
   "cell_type": "code",
   "execution_count": null,
   "metadata": {},
   "outputs": [],
   "source": []
  }
 ],
 "metadata": {
  "kernelspec": {
   "display_name": "Python 3",
   "language": "python",
   "name": "python3"
  },
  "language_info": {
   "codemirror_mode": {
    "name": "ipython",
    "version": 3
   },
   "file_extension": ".py",
   "mimetype": "text/x-python",
   "name": "python",
   "nbconvert_exporter": "python",
   "pygments_lexer": "ipython3",
   "version": "3.6.8"
  }
 },
 "nbformat": 4,
 "nbformat_minor": 2
}
